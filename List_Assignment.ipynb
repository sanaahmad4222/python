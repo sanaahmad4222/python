{
  "nbformat": 4,
  "nbformat_minor": 0,
  "metadata": {
    "colab": {
      "provenance": [],
      "authorship_tag": "ABX9TyOUa0DhgSXSsZUN7I4ZMBMk",
      "include_colab_link": true
    },
    "kernelspec": {
      "name": "python3",
      "display_name": "Python 3"
    },
    "language_info": {
      "name": "python"
    }
  },
  "cells": [
    {
      "cell_type": "markdown",
      "metadata": {
        "id": "view-in-github",
        "colab_type": "text"
      },
      "source": [
        "<a href=\"https://colab.research.google.com/github/sanaahmad4222/python/blob/main/List_Assignment.ipynb\" target=\"_parent\"><img src=\"https://colab.research.google.com/assets/colab-badge.svg\" alt=\"Open In Colab\"/></a>"
      ]
    },
    {
      "cell_type": "code",
      "execution_count": null,
      "metadata": {
        "colab": {
          "base_uri": "https://localhost:8080/"
        },
        "id": "a6AiGNt68wOC",
        "outputId": "fb576077-1990-40e6-e6af-b73e57730f27"
      },
      "outputs": [
        {
          "output_type": "stream",
          "name": "stdout",
          "text": [
            "Even numbers are:\n",
            "8\n",
            "12\n",
            "24\n"
          ]
        }
      ],
      "source": [
        "# Q1: Create a list of 7 numbers\n",
        "numbers = [3, 8, 17, 12, 7, 24, 19]\n",
        "\n",
        "print(\"Even numbers are:\")\n",
        "for num in numbers:\n",
        "    if num % 2 == 0:\n",
        "        print(num)\n"
      ]
    },
    {
      "cell_type": "code",
      "source": [
        "# Q2: Create a list of 5 student names\n",
        "students = [\"Ali\", \"Sara\", \"Ahmed\", \"Sana\", \"Bilal\"]\n",
        "\n",
        "name = input(\"Enter a student name: \")\n",
        "\n",
        "if name in students:\n",
        "    print(\"Found\")\n",
        "else:\n",
        "    print(\"Not Found\")\n"
      ],
      "metadata": {
        "colab": {
          "base_uri": "https://localhost:8080/"
        },
        "id": "xoFSwElf94hl",
        "outputId": "431ce204-0b0e-4393-d57c-496277e82488"
      },
      "execution_count": null,
      "outputs": [
        {
          "output_type": "stream",
          "name": "stdout",
          "text": [
            "Enter a student name: Sana\n",
            "Found\n"
          ]
        }
      ]
    },
    {
      "cell_type": "code",
      "source": [
        "# Q3: Create a list of 6 numbers\n",
        "numbers = [12, 45, 5, 96, 23, 56]\n",
        "\n",
        "maximum = numbers[0]\n",
        "minimum = numbers[0]\n",
        "\n",
        "for num in numbers:\n",
        "    if num > maximum:\n",
        "        maximum = num\n",
        "    if num < minimum:\n",
        "        minimum = num\n",
        "\n",
        "print(\"Maximum number:\", maximum)\n",
        "print(\"Minimum number:\", minimum)\n"
      ],
      "metadata": {
        "colab": {
          "base_uri": "https://localhost:8080/"
        },
        "id": "VOgfEKOa_Ftg",
        "outputId": "aea269fb-057e-4f0c-dc80-b5b34c1ed55e"
      },
      "execution_count": null,
      "outputs": [
        {
          "output_type": "stream",
          "name": "stdout",
          "text": [
            "Maximum number: 96\n",
            "Minimum number: 5\n"
          ]
        }
      ]
    },
    {
      "cell_type": "code",
      "source": [
        "# Q4: Create a list\n",
        "numbers = [2, 4, 6, 8, 10]\n",
        "\n",
        "# Create a new list with each number multiplied by 3\n",
        "\n",
        "new_list = []\n",
        "for num in numbers:\n",
        "    new_list.append(num * 3)\n",
        "\n",
        "print(\"New list:\", new_list)\n"
      ],
      "metadata": {
        "colab": {
          "base_uri": "https://localhost:8080/"
        },
        "id": "JHbNDTDC_oPT",
        "outputId": "4342143a-2b06-4a50-af9b-3b81b312d8c9"
      },
      "execution_count": null,
      "outputs": [
        {
          "output_type": "stream",
          "name": "stdout",
          "text": [
            "New list: [6, 12, 18, 24, 30]\n"
          ]
        }
      ]
    },
    {
      "cell_type": "code",
      "source": [
        "# Q5: Create a nested list\n",
        "students = [[\"Ali\", 20], [\"Sara\", 22], [\"Ahmed\", 19]]\n",
        "\n",
        "print(\"Student Names:\")\n",
        "for student in students:\n",
        "    print(student[0])\n"
      ],
      "metadata": {
        "colab": {
          "base_uri": "https://localhost:8080/"
        },
        "id": "wYvHiPrIAyJH",
        "outputId": "e682aa2e-f2e0-45e6-e97d-7a916715c06f"
      },
      "execution_count": null,
      "outputs": [
        {
          "output_type": "stream",
          "name": "stdout",
          "text": [
            "Student Names:\n",
            "Ali\n",
            "Sara\n",
            "Ahmed\n"
          ]
        }
      ]
    },
    {
      "cell_type": "code",
      "source": [
        "# Q6: Create a list of numbers\n",
        "numbers = [12, 45, 7, 89, 23, 67]\n",
        "\n",
        "largest = numbers[0]\n",
        "for num in numbers:\n",
        "    if num > largest:\n",
        "        largest = num\n",
        "\n",
        "second_largest = None\n",
        "for num in numbers:\n",
        "    if num != largest:\n",
        "        if second_largest is None or num > second_largest:\n",
        "            second_largest = num\n",
        "\n",
        "print(\"Second largest number:\", second_largest)\n"
      ],
      "metadata": {
        "colab": {
          "base_uri": "https://localhost:8080/"
        },
        "id": "iQ3FTvxkBue3",
        "outputId": "d6d2e484-7261-4ec9-ecf2-9012b1ea7e7e"
      },
      "execution_count": null,
      "outputs": [
        {
          "output_type": "stream",
          "name": "stdout",
          "text": [
            "Second largest number: 67\n"
          ]
        }
      ]
    },
    {
      "cell_type": "code",
      "source": [
        "# Q7: Create a list\n",
        "numbers = [1, 2, 3, 4, 5, 6, 7, 8, 9]\n",
        "\n",
        "print(\"Numbers at odd indexes:\")\n",
        "for i in range(len(numbers)):\n",
        "    if i % 2 != 0:\n",
        "        print(numbers[i])\n"
      ],
      "metadata": {
        "colab": {
          "base_uri": "https://localhost:8080/"
        },
        "id": "c6glYSpJCWi7",
        "outputId": "13c518c0-a2f0-4202-b82c-7072a7224f3b"
      },
      "execution_count": null,
      "outputs": [
        {
          "output_type": "stream",
          "name": "stdout",
          "text": [
            "Numbers at odd indexes:\n",
            "2\n",
            "4\n",
            "6\n",
            "8\n"
          ]
        }
      ]
    },
    {
      "cell_type": "code",
      "source": [
        "# Q8: Create a list of words\n",
        "words = [\"Python\", \"is\", \"awsome\", \"to\", \"learn\"]\n",
        "\n",
        "sentence = \" \".join(words)\n",
        "\n",
        "print(sentence)\n"
      ],
      "metadata": {
        "colab": {
          "base_uri": "https://localhost:8080/"
        },
        "id": "kURhtfX0C3tt",
        "outputId": "f48da6cb-3786-4b96-b547-bea9cabf853a"
      },
      "execution_count": null,
      "outputs": [
        {
          "output_type": "stream",
          "name": "stdout",
          "text": [
            "Python is awsome to learn\n"
          ]
        }
      ]
    }
  ]
}