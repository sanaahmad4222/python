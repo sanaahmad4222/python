{
  "nbformat": 4,
  "nbformat_minor": 0,
  "metadata": {
    "colab": {
      "provenance": [],
      "include_colab_link": true
    },
    "kernelspec": {
      "name": "python3",
      "display_name": "Python 3"
    },
    "language_info": {
      "name": "python"
    }
  },
  "cells": [
    {
      "cell_type": "markdown",
      "metadata": {
        "id": "view-in-github",
        "colab_type": "text"
      },
      "source": [
        "<a href=\"https://colab.research.google.com/github/sanaahmad4222/python/blob/main/Assignment_3.ipynb\" target=\"_parent\"><img src=\"https://colab.research.google.com/assets/colab-badge.svg\" alt=\"Open In Colab\"/></a>"
      ]
    },
    {
      "cell_type": "code",
      "execution_count": null,
      "metadata": {
        "id": "9uR7MaqbJukz",
        "colab": {
          "base_uri": "https://localhost:8080/"
        },
        "outputId": "2d1e52b2-d236-4e6e-b446-c0ffdae7966e"
      },
      "outputs": [
        {
          "output_type": "stream",
          "name": "stdout",
          "text": [
            "Enter a number: 5\n",
            "5 x 1 = 5\n",
            "5 x 2 = 10\n",
            "5 x 3 = 15\n",
            "5 x 4 = 20\n",
            "5 x 5 = 25\n",
            "5 x 6 = 30\n",
            "5 x 7 = 35\n",
            "5 x 8 = 40\n",
            "5 x 9 = 45\n",
            "5 x 10 = 50\n"
          ]
        }
      ],
      "source": [
        "# Multiplication table generator\n",
        "n = int(input(\"Enter a number: \"))\n",
        "\n",
        "# Loop from 1 to 10\n",
        "for i in range(1, 11):\n",
        "    print(n, \"x\", i, \"=\", n * i)\n"
      ]
    },
    {
      "cell_type": "code",
      "source": [
        "# Fibonacci Series\n",
        "n = int(input(\"Enter the number of terms: \"))\n",
        "a, b = 0, 1\n",
        "print(\"Fibonacci Series:\")\n",
        "for i in range(n):\n",
        "    print(a, end=\" \")\n",
        "    a, b = b, a + b\n"
      ],
      "metadata": {
        "colab": {
          "base_uri": "https://localhost:8080/"
        },
        "id": "tAuiS8JRNAPn",
        "outputId": "acc17b90-11b7-47ff-de49-400abe6a179b"
      },
      "execution_count": null,
      "outputs": [
        {
          "output_type": "stream",
          "name": "stdout",
          "text": [
            "Enter the number of terms: 6\n",
            "Fibonacci Series:\n",
            "0 1 1 2 3 5 "
          ]
        }
      ]
    },
    {
      "cell_type": "code",
      "source": [
        "# Prime Number Checker\n",
        "n = int(input(\"Enter a number: \"))\n",
        "if n <= 1:\n",
        "    print(n, \"is not a prime number.\")\n",
        "else:\n",
        "    is_prime = True\n",
        "    for i in range(2, n):\n",
        "        if n % i == 0:\n",
        "            is_prime = False\n",
        "            break\n",
        "\n",
        "    if is_prime:\n",
        "        print(n, \"is a prime number.\")\n",
        "    else:\n",
        "        print(n, \"is not a prime number.\")\n"
      ],
      "metadata": {
        "colab": {
          "base_uri": "https://localhost:8080/"
        },
        "id": "MSA_HGDXN-cA",
        "outputId": "7b7bd285-b3b2-4ba7-dc15-0c627930fd0f"
      },
      "execution_count": null,
      "outputs": [
        {
          "output_type": "stream",
          "name": "stdout",
          "text": [
            "Enter a number: 4\n",
            "4 is not a prime number.\n"
          ]
        }
      ]
    },
    {
      "cell_type": "code",
      "source": [
        "# Power Calculation\n",
        "b = float(input(\"Enter the base (b): \"))\n",
        "e = int(input(\"Enter the exponent (e): \"))\n",
        "result = b ** e\n",
        "print(b, \"raised to the power\", e, \"is:\", result)\n"
      ],
      "metadata": {
        "colab": {
          "base_uri": "https://localhost:8080/"
        },
        "id": "oKOJqdwhPRO0",
        "outputId": "2db58a94-6478-4cea-8539-c7429e5fa031"
      },
      "execution_count": null,
      "outputs": [
        {
          "output_type": "stream",
          "name": "stdout",
          "text": [
            "Enter the base (b): 1\n",
            "Enter the exponent (e): 3\n",
            "1.0 raised to the power 3 is: 1.0\n"
          ]
        }
      ]
    },
    {
      "cell_type": "code",
      "source": [
        "# Reverse a number\n",
        "\n",
        "n = int(input(\"Enter a number: \"))\n",
        "reversed_num = int(str(n)[::-1])\n",
        "print(\"Reversed number is:\", reversed_num)\n"
      ],
      "metadata": {
        "colab": {
          "base_uri": "https://localhost:8080/"
        },
        "id": "cx2jQs0_QJl-",
        "outputId": "bb348524-f24a-4e24-a10a-81e22868ff65"
      },
      "execution_count": null,
      "outputs": [
        {
          "output_type": "stream",
          "name": "stdout",
          "text": [
            "Enter a number: 456\n",
            "Reversed number is: 654\n"
          ]
        }
      ]
    },
    {
      "cell_type": "code",
      "source": [
        "# Guess Until Correct\n",
        "secret_number =5\n",
        "while True:\n",
        "    guess = int(input(\"Guess the secret number: \"))\n",
        "    if guess == secret_number:\n",
        "        print(\"🎉 Correct! You guessed it!\")\n",
        "        break\n",
        "    else:\n",
        "        print(\"❌ Wrong guess, try again!\")\n"
      ],
      "metadata": {
        "colab": {
          "base_uri": "https://localhost:8080/"
        },
        "id": "jcwnUIhrRhld",
        "outputId": "0063ef04-7048-4fcc-b3b2-205b7df95b9c"
      },
      "execution_count": null,
      "outputs": [
        {
          "output_type": "stream",
          "name": "stdout",
          "text": [
            "Guess the secret number: 4\n",
            "❌ Wrong guess, try again!\n",
            "Guess the secret number: 5\n",
            "🎉 Correct! You guessed it!\n"
          ]
        }
      ]
    }
  ]
}