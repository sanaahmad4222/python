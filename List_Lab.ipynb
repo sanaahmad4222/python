{
  "nbformat": 4,
  "nbformat_minor": 0,
  "metadata": {
    "colab": {
      "provenance": [],
      "authorship_tag": "ABX9TyPpP4RVItxTxXZutDN3BVbF",
      "include_colab_link": true
    },
    "kernelspec": {
      "name": "python3",
      "display_name": "Python 3"
    },
    "language_info": {
      "name": "python"
    }
  },
  "cells": [
    {
      "cell_type": "markdown",
      "metadata": {
        "id": "view-in-github",
        "colab_type": "text"
      },
      "source": [
        "<a href=\"https://colab.research.google.com/github/sanaahmad4222/python/blob/main/List_Lab.ipynb\" target=\"_parent\"><img src=\"https://colab.research.google.com/assets/colab-badge.svg\" alt=\"Open In Colab\"/></a>"
      ]
    },
    {
      "cell_type": "code",
      "execution_count": null,
      "metadata": {
        "colab": {
          "base_uri": "https://localhost:8080/"
        },
        "id": "eNnQC9bIhfNt",
        "outputId": "4b1cef7b-10e8-4763-d33c-b0ae5928eb19"
      },
      "outputs": [
        {
          "output_type": "stream",
          "name": "stdout",
          "text": [
            "First fruit: Apple\n",
            "Last fruit: Mango\n"
          ]
        }
      ],
      "source": [
        "# Q1. Create a list of 5 fruits\n",
        "fruits = [\"Apple\", \"Banana\", \"Kiwi\", \"Orange\", \"Mango\"]\n",
        "\n",
        "print(\"First fruit:\", fruits[0])\n",
        "print(\"Last fruit:\", fruits[-1])\n"
      ]
    },
    {
      "cell_type": "code",
      "source": [
        "# Q2. Create a list of numbers\n",
        "numbers = [10, 20, 30, 40, 50]\n",
        "\n",
        "total = sum(numbers)\n",
        "\n",
        "print(\"Sum of numbers:\", total)\n"
      ],
      "metadata": {
        "colab": {
          "base_uri": "https://localhost:8080/"
        },
        "id": "I3VGnNefiJ69",
        "outputId": "fe2f8f4d-1da2-420d-c1db-63fdf108b0be"
      },
      "execution_count": null,
      "outputs": [
        {
          "output_type": "stream",
          "name": "stdout",
          "text": [
            "Sum of numbers: 150\n"
          ]
        }
      ]
    },
    {
      "cell_type": "code",
      "source": [
        "# Q3. Create a list of 4 colors\n",
        "colors = [\"Red\", \"Blue\", \"Green\", \"Yellow\"]\n",
        "\n",
        "colors[1] = \"Black\"\n",
        "\n",
        "print(\"Updated list of colors:\", colors)\n"
      ],
      "metadata": {
        "colab": {
          "base_uri": "https://localhost:8080/"
        },
        "id": "pt8j_eekirk_",
        "outputId": "579db117-2b5b-4805-f059-2d76a81299d9"
      },
      "execution_count": null,
      "outputs": [
        {
          "output_type": "stream",
          "name": "stdout",
          "text": [
            "Updated list of colors: ['Red', 'Black', 'Green', 'Yellow']\n"
          ]
        }
      ]
    },
    {
      "cell_type": "code",
      "source": [
        "#Q4. Create a list\n",
        "numbers = [5, 10, 15, 20, 25]\n",
        "\n",
        "numbers.remove(15)\n",
        "\n",
        "print(\"Updated list:\", numbers)\n"
      ],
      "metadata": {
        "colab": {
          "base_uri": "https://localhost:8080/"
        },
        "id": "M2ExGOyYjES-",
        "outputId": "bbfa0d3b-b9c4-43bf-a7fa-523349d31555"
      },
      "execution_count": null,
      "outputs": [
        {
          "output_type": "stream",
          "name": "stdout",
          "text": [
            "Updated list: [5, 10, 20, 25]\n"
          ]
        }
      ]
    }
  ]
}