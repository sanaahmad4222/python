{
  "nbformat": 4,
  "nbformat_minor": 0,
  "metadata": {
    "colab": {
      "provenance": []
    },
    "kernelspec": {
      "name": "python3",
      "display_name": "Python 3"
    },
    "language_info": {
      "name": "python"
    }
  },
  "cells": [
    {
      "cell_type": "code",
      "source": [
        "def calculate_person_age():\n",
        "  current_year = int(input(\"What is the current year?\"))\n",
        "  birth_year =  int(input(\"In which yearyou born?\"))\n",
        "  age = current_year - birth_year\n",
        "  print(f\"Your age is: {age}\")\n",
        "calculate_person_age()"
      ],
      "metadata": {
        "colab": {
          "base_uri": "https://localhost:8080/"
        },
        "id": "syKNRCXw3rcc",
        "outputId": "c2ca2a7d-92fd-4fc1-b3f7-eea1f4809a91"
      },
      "execution_count": null,
      "outputs": [
        {
          "output_type": "stream",
          "name": "stdout",
          "text": [
            "What is the current year?2025\n",
            "In which yearyou born?1995\n",
            "Your age is: 30\n"
          ]
        }
      ]
    },
    {
      "cell_type": "code",
      "source": [
        "# Take input from the user\n",
        "p = float(input(\"Enter Principal amount: \"))\n",
        "r = float(input(\"Enter Rate of Interest: \"))\n",
        "t = float(input(\"Enter Time (in years): \"))\n",
        "si = (p * r * t) / 100\n",
        "print(\"Simple Interest is:\", si)\n"
      ],
      "metadata": {
        "colab": {
          "base_uri": "https://localhost:8080/"
        },
        "id": "LRqDGX1NFjiE",
        "outputId": "2060d37b-f443-4889-a665-debe56ec45f7"
      },
      "execution_count": null,
      "outputs": [
        {
          "output_type": "stream",
          "name": "stdout",
          "text": [
            "Enter Principal amount: 4000\n",
            "Enter Rate of Interest: 8\n",
            "Enter Time (in years): 4\n",
            "Simple Interest is: 1280.0\n"
          ]
        }
      ]
    },
    {
      "cell_type": "markdown",
      "source": [],
      "metadata": {
        "id": "G2SK183vAmae"
      }
    },
    {
      "cell_type": "code",
      "source": [
        "# Take input from the user\n",
        "length = float(input(\"Enter the length of the rectangle: \"))\n",
        "width = float(input(\"Enter the width of the rectangle: \"))\n",
        "\n",
        "area = length * width\n",
        "\n",
        "print(\"The area of the rectangle is:\", area)\n"
      ],
      "metadata": {
        "colab": {
          "base_uri": "https://localhost:8080/"
        },
        "id": "IT4DU67BGLu8",
        "outputId": "738e0d9b-10f6-4799-c1c0-9d917e6a17ff"
      },
      "execution_count": null,
      "outputs": [
        {
          "output_type": "stream",
          "name": "stdout",
          "text": [
            "Enter the length of the rectangle: 200\n",
            "Enter the width of the rectangle: 20\n",
            "The area of the rectangle is: 4000.0\n"
          ]
        }
      ]
    },
    {
      "cell_type": "code",
      "source": [
        "# Take radius input from user\n",
        "radius = float(input(\"Enter the radius of the circle: \"))\n",
        "\n",
        "pi = 3.1415\n",
        "area = pi * radius * radius\n",
        "circumference = 2 * pi * radius\n",
        "\n",
        "print(\"Area of the circle is:\", area)\n",
        "print(\"Circumference of the circle is:\", circumference)"
      ],
      "metadata": {
        "colab": {
          "base_uri": "https://localhost:8080/"
        },
        "id": "Fl3FbyLMHtvP",
        "outputId": "377765db-ec4d-4bef-d872-733833226f96"
      },
      "execution_count": null,
      "outputs": [
        {
          "output_type": "stream",
          "name": "stdout",
          "text": [
            "Enter the radius of the circle: 7\n",
            "Area of the circle is: 153.93791\n",
            "Circumference of the circle is: 43.98226\n"
          ]
        }
      ]
    },
    {
      "cell_type": "code",
      "source": [
        "# Take input from the user\n",
        "celsius = float(input(\"Enter temperature in Celsius: \"))\n",
        "\n",
        "fahrenheit = (celsius * 9/5) + 32\n",
        "\n",
        "print(\"Temperature in Fahrenheit is:\", fahrenheit)\n"
      ],
      "metadata": {
        "colab": {
          "base_uri": "https://localhost:8080/"
        },
        "id": "GRxnaVUpJfu1",
        "outputId": "d9924260-925f-4f6e-a0b0-532ae9ab3852"
      },
      "execution_count": null,
      "outputs": [
        {
          "output_type": "stream",
          "name": "stdout",
          "text": [
            "Enter temperature in Celsius: 25\n",
            "Temperature in Fahrenheit is: 77.0\n"
          ]
        }
      ]
    },
    {
      "cell_type": "code",
      "source": [
        "# Take input from the user\n",
        "num1 = float(input(\"Enter first number: \"))\n",
        "num2 = float(input(\"Enter second number: \"))\n",
        "num3 = float(input(\"Enter third number: \"))\n",
        "\n",
        "average = (num1 + num2 + num3) / 3\n",
        "\n",
        "print(\"The average is:\", average)\n"
      ],
      "metadata": {
        "colab": {
          "base_uri": "https://localhost:8080/"
        },
        "id": "kzxF842kLeHQ",
        "outputId": "e594d562-c44f-47f3-d04f-f04eebd5909e"
      },
      "execution_count": null,
      "outputs": [
        {
          "output_type": "stream",
          "name": "stdout",
          "text": [
            "Enter first number: 20\n",
            "Enter second number: 30\n",
            "Enter third number: 40\n",
            "The average is: 30.0\n"
          ]
        }
      ]
    }
  ]
}