{
  "nbformat": 4,
  "nbformat_minor": 0,
  "metadata": {
    "colab": {
      "provenance": [],
      "authorship_tag": "ABX9TyMp2UxoFwav8hVqIWL0sszD",
      "include_colab_link": true
    },
    "kernelspec": {
      "name": "python3",
      "display_name": "Python 3"
    },
    "language_info": {
      "name": "python"
    }
  },
  "cells": [
    {
      "cell_type": "markdown",
      "metadata": {
        "id": "view-in-github",
        "colab_type": "text"
      },
      "source": [
        "<a href=\"https://colab.research.google.com/github/sanaahmad4222/python/blob/main/NumpyAssignment.ipynb\" target=\"_parent\"><img src=\"https://colab.research.google.com/assets/colab-badge.svg\" alt=\"Open In Colab\"/></a>"
      ]
    },
    {
      "cell_type": "code",
      "execution_count": null,
      "metadata": {
        "colab": {
          "base_uri": "https://localhost:8080/"
        },
        "id": "PPUjUcahp03P",
        "outputId": "6045539c-00f6-4a4a-f141-ae5e1ce13730"
      },
      "outputs": [
        {
          "output_type": "stream",
          "name": "stdout",
          "text": [
            "Array: [1 2 3 4 5]\n",
            "Type: <class 'numpy.ndarray'>\n"
          ]
        }
      ],
      "source": [
        "import numpy as np\n",
        "\n",
        "arr = np.array([1, 2, 3, 4, 5])\n",
        "\n",
        "print(\"Array:\", arr)\n",
        "print(\"Type:\", type(arr))\n"
      ]
    },
    {
      "cell_type": "code",
      "source": [
        "import numpy as np\n",
        "\n",
        "arr = np.arange(10, 51)\n",
        "\n",
        "print(\"Array:\", arr)\n",
        "print(\"Shape:\", arr.shape)\n",
        "print(\"Size:\", arr.size)\n",
        "\n"
      ],
      "metadata": {
        "colab": {
          "base_uri": "https://localhost:8080/"
        },
        "id": "7jxCeWEZqCVd",
        "outputId": "d5e1c3ad-ea7a-464b-88d9-1fcd47c473b8"
      },
      "execution_count": null,
      "outputs": [
        {
          "output_type": "stream",
          "name": "stdout",
          "text": [
            "Array: [10 11 12 13 14 15 16 17 18 19 20 21 22 23 24 25 26 27 28 29 30 31 32 33\n",
            " 34 35 36 37 38 39 40 41 42 43 44 45 46 47 48 49 50]\n",
            "Shape: (41,)\n",
            "Size: 41\n"
          ]
        }
      ]
    },
    {
      "cell_type": "code",
      "source": [
        "import numpy as np\n",
        "\n",
        "arr = np.zeros((3, 4))\n",
        "print(\"Original Array:\\n\", arr)\n",
        "\n",
        "arr[:] = 5\n",
        "print(\"Updated Array:\\n\", arr)\n"
      ],
      "metadata": {
        "colab": {
          "base_uri": "https://localhost:8080/"
        },
        "id": "69XtnDFKrZ6v",
        "outputId": "d637445b-bae5-4093-9068-bba893c0d878"
      },
      "execution_count": null,
      "outputs": [
        {
          "output_type": "stream",
          "name": "stdout",
          "text": [
            "Original Array:\n",
            " [[0. 0. 0. 0.]\n",
            " [0. 0. 0. 0.]\n",
            " [0. 0. 0. 0.]]\n",
            "Updated Array:\n",
            " [[5. 5. 5. 5.]\n",
            " [5. 5. 5. 5.]\n",
            " [5. 5. 5. 5.]]\n"
          ]
        }
      ]
    },
    {
      "cell_type": "code",
      "source": [
        "import numpy as np\n",
        "\n",
        "arr = np.random.randint(1, 101, size=15)\n",
        "print(\"Array:\", arr)\n",
        "\n",
        "print(\"Maximum:\", arr.max())\n",
        "print(\"Minimum:\", arr.min())\n",
        "print(\"Mean:\", arr.mean())\n"
      ],
      "metadata": {
        "colab": {
          "base_uri": "https://localhost:8080/"
        },
        "id": "YWZYt4IuryFs",
        "outputId": "0156b7c6-60a3-4e9f-8cc8-e0417d601903"
      },
      "execution_count": null,
      "outputs": [
        {
          "output_type": "stream",
          "name": "stdout",
          "text": [
            "Array: [28 71 52 64 32 96 64  5  1 61 87  8 51 23 44]\n",
            "Maximum: 96\n",
            "Minimum: 1\n",
            "Mean: 45.8\n"
          ]
        }
      ]
    },
    {
      "cell_type": "code",
      "source": [
        "import numpy as np\n",
        "\n",
        "arr = np.arange(1, 21)\n",
        "print(\"Original Array:\", arr)\n",
        "\n",
        "even_nums = arr[arr % 2 == 0]\n",
        "print(\"Even Numbers:\", even_nums)\n",
        "\n",
        "reversed_arr = arr[::-1]\n",
        "print(\"Reversed Array:\", reversed_arr)\n"
      ],
      "metadata": {
        "colab": {
          "base_uri": "https://localhost:8080/"
        },
        "id": "Ui3vpF2tsBYC",
        "outputId": "11cf27da-2333-4fec-e4c1-ba6741123cff"
      },
      "execution_count": null,
      "outputs": [
        {
          "output_type": "stream",
          "name": "stdout",
          "text": [
            "Original Array: [ 1  2  3  4  5  6  7  8  9 10 11 12 13 14 15 16 17 18 19 20]\n",
            "Even Numbers: [ 2  4  6  8 10 12 14 16 18 20]\n",
            "Reversed Array: [20 19 18 17 16 15 14 13 12 11 10  9  8  7  6  5  4  3  2  1]\n"
          ]
        }
      ]
    },
    {
      "cell_type": "code",
      "source": [
        "import numpy as np\n",
        "\n",
        "arr = np.array([10, 20, 30, 40, 50])\n",
        "print(\"Array:\", arr)\n",
        "\n",
        "print(\"First Element:\", arr[0])\n",
        "print(\"Last Element:\", arr[-1])\n"
      ],
      "metadata": {
        "colab": {
          "base_uri": "https://localhost:8080/"
        },
        "id": "brSvpXoZsa3p",
        "outputId": "bc1994bf-3139-4887-814e-ba34b2a8be13"
      },
      "execution_count": null,
      "outputs": [
        {
          "output_type": "stream",
          "name": "stdout",
          "text": [
            "Array: [10 20 30 40 50]\n",
            "First Element: 10\n",
            "Last Element: 50\n"
          ]
        }
      ]
    },
    {
      "cell_type": "code",
      "source": [
        "import numpy as np\n",
        "\n",
        "arr = np.arange(1, 17).reshape(4, 4)\n",
        "print(\"Original Array:\\n\", arr)\n",
        "\n",
        "sub_arr = arr[:2, -2:]\n",
        "print(\"First two rows & last two columns:\\n\", sub_arr)\n",
        "\n",
        "np.fill_diagonal(arr, 0)\n",
        "print(\"Array with diagonal replaced by 0:\\n\", arr)\n"
      ],
      "metadata": {
        "colab": {
          "base_uri": "https://localhost:8080/"
        },
        "id": "uLY4-gmBsgu8",
        "outputId": "dff42792-2297-4077-b9bb-3b02dc2bbb71"
      },
      "execution_count": null,
      "outputs": [
        {
          "output_type": "stream",
          "name": "stdout",
          "text": [
            "Original Array:\n",
            " [[ 1  2  3  4]\n",
            " [ 5  6  7  8]\n",
            " [ 9 10 11 12]\n",
            " [13 14 15 16]]\n",
            "First two rows & last two columns:\n",
            " [[3 4]\n",
            " [7 8]]\n",
            "Array with diagonal replaced by 0:\n",
            " [[ 0  2  3  4]\n",
            " [ 5  0  7  8]\n",
            " [ 9 10  0 12]\n",
            " [13 14 15  0]]\n"
          ]
        }
      ]
    },
    {
      "cell_type": "code",
      "source": [
        "import numpy as np\n",
        "\n",
        "arr = np.random.randint(1, 101, size=25)\n",
        "print(\"Original Array:\\n\", arr)\n",
        "\n",
        "sorted_arr = np.sort(arr)\n",
        "print(\"Sorted Array:\\n\", sorted_arr)\n"
      ],
      "metadata": {
        "colab": {
          "base_uri": "https://localhost:8080/"
        },
        "id": "49yBEwL-svKN",
        "outputId": "597a1ff4-5e40-47c1-d65e-5e034cf0b947"
      },
      "execution_count": null,
      "outputs": [
        {
          "output_type": "stream",
          "name": "stdout",
          "text": [
            "Original Array:\n",
            " [ 60  14  77  18  89  47  48  91  93  73  43  35  49  87  95  15  27  80\n",
            "  12  30  58 100  17  96  47]\n",
            "Sorted Array:\n",
            " [ 12  14  15  17  18  27  30  35  43  47  47  48  49  58  60  73  77  80\n",
            "  87  89  91  93  95  96 100]\n"
          ]
        }
      ]
    },
    {
      "cell_type": "code",
      "source": [
        "import numpy as np\n",
        "\n",
        "arr = np.arange(1, 11)\n",
        "print(\"Array:\", arr)\n",
        "\n",
        "print(\"Maximum:\", np.max(arr))\n",
        "print(\"Minimum:\", np.min(arr))\n",
        "print(\"Sum:\", np.sum(arr))\n"
      ],
      "metadata": {
        "colab": {
          "base_uri": "https://localhost:8080/"
        },
        "id": "c5c-vPjqs-29",
        "outputId": "f8db7383-313d-4d7f-da42-c1b8cfdbb3a1"
      },
      "execution_count": null,
      "outputs": [
        {
          "output_type": "stream",
          "name": "stdout",
          "text": [
            "Array: [ 1  2  3  4  5  6  7  8  9 10]\n",
            "Maximum: 10\n",
            "Minimum: 1\n",
            "Sum: 55\n"
          ]
        }
      ]
    },
    {
      "cell_type": "code",
      "source": [
        "import numpy as np\n",
        "\n",
        "arr = np.arange(1, 37)\n",
        "arr_2d = arr.reshape(6, 6)\n",
        "\n",
        "print(\"2D Array (6x6):\\n\", arr_2d)\n",
        "\n",
        "row_sum = np.sum(arr_2d, axis=1)\n",
        "print(\"Sum of each row:\", row_sum)\n",
        "\n",
        "col_sum = np.sum(arr_2d, axis=0)\n",
        "print(\"Sum of each column:\", col_sum)\n"
      ],
      "metadata": {
        "colab": {
          "base_uri": "https://localhost:8080/"
        },
        "id": "NXGGZ59dte7y",
        "outputId": "2924ac0a-4183-4f03-da18-bf25ed801a74"
      },
      "execution_count": null,
      "outputs": [
        {
          "output_type": "stream",
          "name": "stdout",
          "text": [
            "2D Array (6x6):\n",
            " [[ 1  2  3  4  5  6]\n",
            " [ 7  8  9 10 11 12]\n",
            " [13 14 15 16 17 18]\n",
            " [19 20 21 22 23 24]\n",
            " [25 26 27 28 29 30]\n",
            " [31 32 33 34 35 36]]\n",
            "Sum of each row: [ 21  57  93 129 165 201]\n",
            "Sum of each column: [ 96 102 108 114 120 126]\n"
          ]
        }
      ]
    }
  ]
}